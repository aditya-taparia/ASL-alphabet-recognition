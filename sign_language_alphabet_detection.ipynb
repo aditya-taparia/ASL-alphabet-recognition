{
  "nbformat": 4,
  "nbformat_minor": 0,
  "metadata": {
    "colab": {
      "provenance": [],
      "collapsed_sections": []
    },
    "kernelspec": {
      "name": "python3",
      "display_name": "Python 3"
    },
    "language_info": {
      "name": "python"
    }
  },
  "cells": [
    {
      "cell_type": "markdown",
      "source": [
        "## Introduction:\n",
        "This Jupiter notebook file covers the implementation of a machine learning algorithm for detecting the American Sign Language (ASL) alphabet. For this project, we are using the [Sign Language MNIST](https://www.kaggle.com/datasets/datamunge/sign-language-mnist) dataset, which contains 24 classes for the alphabet A to Z, excluding J and Z from the dataset because they can't be captured in a single image (as it is a gesture). The motivation for this project is to make a translator for the signers."
      ],
      "metadata": {
        "id": "NrWHn6SOLIf4"
      }
    },
    {
      "cell_type": "code",
      "execution_count": 1,
      "metadata": {
        "id": "va1BSZHDz5pM"
      },
      "outputs": [],
      "source": [
        "import pandas as pd\n",
        "import numpy as np\n",
        "import random\n",
        "import matplotlib.pyplot as plt\n",
        "import tensorflow as tf\n",
        "from tensorflow.keras.utils import to_categorical\n",
        "from keras.models import Sequential\n",
        "from keras.layers import Conv2D, MaxPooling2D, Dense, Flatten, Dropout"
      ]
    },
    {
      "cell_type": "code",
      "source": [
        "# run this cell to connect colab with drive\n",
        "from google.colab import drive\n",
        "drive.mount('/content/drive')"
      ],
      "metadata": {
        "colab": {
          "base_uri": "https://localhost:8080/"
        },
        "id": "g5yzZ3zTPszR",
        "outputId": "1e1c80e5-a83b-401d-ded7-8856ed4ec66e"
      },
      "execution_count": null,
      "outputs": [
        {
          "output_type": "stream",
          "name": "stdout",
          "text": [
            "Drive already mounted at /content/drive; to attempt to forcibly remount, call drive.mount(\"/content/drive\", force_remount=True).\n"
          ]
        }
      ]
    },
    {
      "cell_type": "code",
      "source": [
        "# update base path based on your root directory\n",
        "base_path = '/content/drive/MyDrive/Colab Notebooks/Sign Language Detection/'"
      ],
      "metadata": {
        "id": "JzaBK8szQpv9"
      },
      "execution_count": 2,
      "outputs": []
    },
    {
      "cell_type": "code",
      "source": [
        "train = pd.read_csv(f'{base_path}data/sign_mnist_train.csv')\n",
        "test = pd.read_csv(f'{base_path}data/sign_mnist_test.csv')"
      ],
      "metadata": {
        "id": "zYV5uh_jQ9uY"
      },
      "execution_count": 3,
      "outputs": []
    },
    {
      "cell_type": "code",
      "source": [
        "train_data = np.array(train, dtype='float32')\n",
        "test_data = np.array(test, dtype='float32')\n",
        "\n",
        "class_names = [\n",
        "    'A', 'B', 'C', 'D', 'E',\n",
        "    'F', 'G', 'H', 'I', 'J',\n",
        "    'K', 'L', 'M', 'N', 'O',\n",
        "    'P', 'Q', 'R', 'S', 'T',\n",
        "    'U', 'V', 'W', 'X', 'Y',\n",
        "    'Z'\n",
        "    ]"
      ],
      "metadata": {
        "id": "I97M1Vs5RYem"
      },
      "execution_count": 4,
      "outputs": []
    },
    {
      "cell_type": "markdown",
      "source": [
        "Displaying a random output image with its label."
      ],
      "metadata": {
        "id": "X2rq9Qphmy7G"
      }
    },
    {
      "cell_type": "code",
      "source": [
        "index = random.randint(1, train_data.shape[0])\n",
        "fig, ax = plt.subplots(figsize=(2,2))\n",
        "plt.imshow(train_data[index,1:].reshape((28, 28)), cmap='gray')\n",
        "print(\"Label:\", class_names[int(train_data[index,0])])"
      ],
      "metadata": {
        "colab": {
          "base_uri": "https://localhost:8080/",
          "height": 176
        },
        "id": "_KZoeg2iSJir",
        "outputId": "ca6377b5-0abe-4348-f5e9-86dcc3d9d633"
      },
      "execution_count": 5,
      "outputs": [
        {
          "output_type": "stream",
          "name": "stdout",
          "text": [
            "Label: W\n"
          ]
        },
        {
          "output_type": "display_data",
          "data": {
            "text/plain": [
              "<Figure size 144x144 with 1 Axes>"
            ],
            "image/png": "[encoded data removed]"
          },
          "metadata": {
            "needs_background": "light"
          }
        }
      ]
    },
    {
      "cell_type": "markdown",
      "source": [
        "Preparing training and testing data from the dataset downloaded."
      ],
      "metadata": {
        "id": "tM_nBzRfnIZ2"
      }
    },
    {
      "cell_type": "code",
      "source": [
        "X_train = train_data[:, 1:] / 255.\n",
        "X_train = X_train.reshape(X_train.shape[0], *(28, 28, 1))\n",
        "\n",
        "X_test = test_data[:, 1:] / 255.\n",
        "X_test = X_test.reshape(X_test.shape[0], *(28, 28, 1))\n",
        "\n",
        "y_train = train_data[:, 0]\n",
        "y_test = test_data[:, 0]"
      ],
      "metadata": {
        "id": "dGY2RS4-S12B"
      },
      "execution_count": 6,
      "outputs": []
    },
    {
      "cell_type": "markdown",
      "source": [
        "We are using to_categorical() function to convert all the integer representation in the output data to a vector representation of 26 length.\n",
        "\n",
        "**Example:** \n",
        "\n",
        "```\n",
        "from keras.utils import to_categorical\n",
        "y = [\n",
        "  [3],\n",
        "  [5],\n",
        "  [1],\n",
        "  [25]\n",
        "]\n",
        "print(to_categorical(y, num_classes = 26))\n",
        "```\n",
        "**Output:**\n",
        "```\n",
        "[\n",
        "  [0 0 0 1 0 ... 0 0]\n",
        "  [0 0 0 0 0 ... 0 0]\n",
        "  [0 1 0 0 0 ... 0 0]\n",
        "  [0 0 0 0 0 ... 0 1]\n",
        "]\n",
        "```\n",
        "\n",
        "\n"
      ],
      "metadata": {
        "id": "-_Ndx1dnnxUS"
      }
    },
    {
      "cell_type": "code",
      "source": [
        "y_train_categorical = to_categorical(y_train, num_classes=26)\n",
        "y_test_categorical = to_categorical(y_test, num_classes=26)"
      ],
      "metadata": {
        "id": "ZSg0YIRkUkBC"
      },
      "execution_count": 7,
      "outputs": []
    },
    {
      "cell_type": "markdown",
      "source": [
        "### Model - 1\n"
      ],
      "metadata": {
        "id": "uE0xcxhr0Ys-"
      }
    },
    {
      "cell_type": "code",
      "source": [
        "model1 = Sequential()\n",
        "model1.add(Conv2D(32, (3, 3), input_shape = (28, 28, 1), activation='relu'))\n",
        "model1.add(MaxPooling2D(pool_size=(2,2)))\n",
        "model1.add(Dropout(0.2))\n",
        "\n",
        "model1.add(Conv2D(64, (3, 3), activation='relu'))\n",
        "model1.add(MaxPooling2D(pool_size=(2,2)))\n",
        "model1.add(Dropout(0.2))\n",
        "\n",
        "model1.add(Conv2D(128, (3, 3), activation='relu'))\n",
        "model1.add(MaxPooling2D(pool_size=(2,2)))\n",
        "model1.add(Dropout(0.2))\n",
        "\n",
        "model1.add(Flatten())\n",
        "\n",
        "model1.add(Dense(128, activation = 'relu'))\n",
        "model1.add(Dense(26, activation='softmax'))\n",
        "\n",
        "model1.compile(\n",
        "    loss='categorical_crossentropy', \n",
        "    optimizer='adam',\n",
        "    metrics=['acc'],\n",
        "  )\n",
        "\n",
        "model1.summary()"
      ],
      "metadata": {
        "colab": {
          "base_uri": "https://localhost:8080/"
        },
        "id": "yRrNSuoMXXMO",
        "outputId": "6b2133de-2b5d-497a-a254-3ff9bf0e4dbb"
      },
      "execution_count": 8,
      "outputs": [
        {
          "output_type": "stream",
          "name": "stdout",
          "text": [
            "Model: \"sequential\"\n",
            "_________________________________________________________________\n",
            " Layer (type)                Output Shape              Param #   \n",
            "=================================================================\n",
            " conv2d (Conv2D)             (None, 26, 26, 32)        320       \n",
            "                                                                 \n",
            " max_pooling2d (MaxPooling2D  (None, 13, 13, 32)       0         \n",
            " )                                                               \n",
            "                                                                 \n",
            " dropout (Dropout)           (None, 13, 13, 32)        0         \n",
            "                                                                 \n",
            " conv2d_1 (Conv2D)           (None, 11, 11, 64)        18496     \n",
            "                                                                 \n",
            " max_pooling2d_1 (MaxPooling  (None, 5, 5, 64)         0         \n",
            " 2D)                                                             \n",
            "                                                                 \n",
            " dropout_1 (Dropout)         (None, 5, 5, 64)          0         \n",
            "                                                                 \n",
            " conv2d_2 (Conv2D)           (None, 3, 3, 128)         73856     \n",
            "                                                                 \n",
            " max_pooling2d_2 (MaxPooling  (None, 1, 1, 128)        0         \n",
            " 2D)                                                             \n",
            "                                                                 \n",
            " dropout_2 (Dropout)         (None, 1, 1, 128)         0         \n",
            "                                                                 \n",
            " flatten (Flatten)           (None, 128)               0         \n",
            "                                                                 \n",
            " dense (Dense)               (None, 128)               16512     \n",
            "                                                                 \n",
            " dense_1 (Dense)             (None, 26)                3354      \n",
            "                                                                 \n",
            "=================================================================\n",
            "Total params: 112,538\n",
            "Trainable params: 112,538\n",
            "Non-trainable params: 0\n",
            "_________________________________________________________________\n"
          ]
        }
      ]
    },
    {
      "cell_type": "code",
      "source": [
        "history1 = model1.fit(\n",
        "    X_train, \n",
        "    y_train_categorical, \n",
        "    batch_size = 128, \n",
        "    epochs = 10, \n",
        "    validation_data = (X_test, y_test_categorical)\n",
        "  )"
      ],
      "metadata": {
        "colab": {
          "base_uri": "https://localhost:8080/"
        },
        "id": "is3b2pk5ayRk",
        "outputId": "27683e3f-a0b8-4685-e6d8-00c39998f533"
      },
      "execution_count": 9,
      "outputs": [
        {
          "output_type": "stream",
          "name": "stdout",
          "text": [
            "Epoch 1/10\n",
            "215/215 [==============================] - 35s 159ms/step - loss: 2.6464 - acc: 0.1898 - val_loss: 1.6724 - val_acc: 0.4916\n",
            "Epoch 2/10\n",
            "215/215 [==============================] - 39s 179ms/step - loss: 1.2134 - acc: 0.5879 - val_loss: 0.8280 - val_acc: 0.7177\n",
            "Epoch 3/10\n",
            "215/215 [==============================] - 29s 134ms/step - loss: 0.6913 - acc: 0.7608 - val_loss: 0.5545 - val_acc: 0.7895\n",
            "Epoch 4/10\n",
            "215/215 [==============================] - 29s 135ms/step - loss: 0.4713 - acc: 0.8390 - val_loss: 0.4417 - val_acc: 0.8553\n",
            "Epoch 5/10\n",
            "215/215 [==============================] - 28s 132ms/step - loss: 0.3279 - acc: 0.8909 - val_loss: 0.3486 - val_acc: 0.8819\n",
            "Epoch 6/10\n",
            "215/215 [==============================] - 30s 141ms/step - loss: 0.2385 - acc: 0.9205 - val_loss: 0.3068 - val_acc: 0.8997\n",
            "Epoch 7/10\n",
            "215/215 [==============================] - 31s 144ms/step - loss: 0.1814 - acc: 0.9418 - val_loss: 0.2819 - val_acc: 0.9108\n",
            "Epoch 8/10\n",
            "215/215 [==============================] - 28s 129ms/step - loss: 0.1409 - acc: 0.9552 - val_loss: 0.2450 - val_acc: 0.9278\n",
            "Epoch 9/10\n",
            "215/215 [==============================] - 27s 128ms/step - loss: 0.1189 - acc: 0.9625 - val_loss: 0.2451 - val_acc: 0.9304\n",
            "Epoch 10/10\n",
            "215/215 [==============================] - 28s 131ms/step - loss: 0.1002 - acc: 0.9686 - val_loss: 0.2186 - val_acc: 0.9427\n"
          ]
        }
      ]
    },
    {
      "cell_type": "code",
      "source": [
        "model1.save(f'{base_path}saved_models/model1.hdf5')"
      ],
      "metadata": {
        "id": "0v1-cAwP2h9O"
      },
      "execution_count": 14,
      "outputs": []
    },
    {
      "cell_type": "code",
      "source": [
        "loss = history1.history['loss']\n",
        "val_loss = history1.history['val_loss']\n",
        "epochs = range(1, len(loss) + 1)\n",
        "plt.plot(epochs, loss, 'y', label='Training loss')\n",
        "plt.plot(epochs, val_loss, 'r', label='Validation loss')\n",
        "plt.title('Training and validation loss')\n",
        "plt.xlabel('Epochs')\n",
        "plt.ylabel('Loss')\n",
        "plt.legend()\n",
        "plt.show()\n",
        "\n",
        "acc = history1.history['acc']\n",
        "val_acc = history1.history['val_acc']\n",
        "\n",
        "plt.plot(epochs, acc, 'y', label='Training acc')\n",
        "plt.plot(epochs, val_acc, 'r', label='Validation acc')\n",
        "plt.title('Training and validation accuracy')\n",
        "plt.xlabel('Epochs')\n",
        "plt.ylabel('Accuracy')\n",
        "plt.legend()\n",
        "plt.show()"
      ],
      "metadata": {
        "colab": {
          "base_uri": "https://localhost:8080/",
          "height": 573
        },
        "id": "sxIPvkTfa-nb",
        "outputId": "60d68d18-e70e-4819-9b85-6ff71cff814e"
      },
      "execution_count": 10,
      "outputs": [
        {
          "output_type": "display_data",
          "data": {
            "text/plain": [
              "<Figure size 432x288 with 1 Axes>"
            ],
            "image/png": "[encoded data removed]"
          },
          "metadata": {
            "needs_background": "light"
          }
        },
        {
          "output_type": "display_data",
          "data": {
            "text/plain": [
              "<Figure size 432x288 with 1 Axes>"
            ],
            "image/png": "[encoded data removed]"
          },
          "metadata": {
            "needs_background": "light"
          }
        }
      ]
    },
    {
      "cell_type": "code",
      "source": [
        "prediction1 = np.argmax(model1.predict(X_test), axis=-1)\n",
        "\n",
        "from sklearn.metrics import accuracy_score\n",
        "accuracy1 = accuracy_score(y_test, prediction1)\n",
        "print('Accuracy Score = ', accuracy1)\n",
        "\n",
        "i = random.randint(1,len(prediction1))\n",
        "fig, ax = plt.subplots(figsize=(2,2))\n",
        "plt.imshow(X_test[i,:,:,0].reshape((28, 28)), cmap='gray') \n",
        "print(\"Predicted Label: \", class_names[int(prediction1[i])])\n",
        "print(\"True Label: \", class_names[int(y_test[i])])"
      ],
      "metadata": {
        "colab": {
          "base_uri": "https://localhost:8080/",
          "height": 211
        },
        "id": "R1qQVJQsbyiq",
        "outputId": "8c0dc7ab-6470-4d04-f743-8ed7b4bd010e"
      },
      "execution_count": 21,
      "outputs": [
        {
          "output_type": "stream",
          "name": "stdout",
          "text": [
            "Accuracy Score =  0.9426938092582264\n",
            "Predicted Label:  V\n",
            "True Label:  V\n"
          ]
        },
        {
          "output_type": "display_data",
          "data": {
            "text/plain": [
              "<Figure size 144x144 with 1 Axes>"
            ],
            "image/png": "[encoded data removed]"
          },
          "metadata": {
            "needs_background": "light"
          }
        }
      ]
    },
    {
      "cell_type": "markdown",
      "source": [
        "Although we are getting 94% accuracy but we can increase this accuracy by using ensembling. So for that we will train two more models."
      ],
      "metadata": {
        "id": "bADkWLEPrIiF"
      }
    },
    {
      "cell_type": "markdown",
      "source": [
        "### Model - 2"
      ],
      "metadata": {
        "id": "6AIgkxOk1N5N"
      }
    },
    {
      "cell_type": "code",
      "source": [
        "model2 = Sequential()\n",
        "model2.add(Conv2D(32, (3,3), input_shape = (28,28,1), activation='relu'))\n",
        "model2.add(Conv2D(32, (3,3), activation='relu'))\n",
        "model2.add(MaxPooling2D(pool_size = (2,2)))\n",
        "\n",
        "model2.add(Conv2D(64, (3,3), activation='relu'))\n",
        "model2.add(Conv2D(64, (3,3), activation='relu'))\n",
        "model2.add(Conv2D(64, (3,3), activation='relu'))\n",
        "model2.add(MaxPooling2D(pool_size = (2,2)))\n",
        "\n",
        "model2.add(Conv2D(128, (3,3), activation='relu'))\n",
        "model2.add(Conv2D(25, (1,1)))\n",
        "\n",
        "model2.add(Flatten())\n",
        "model2.add(Dense(26, activation='softmax'))\n",
        "\n",
        "model2.compile(loss='categorical_crossentropy', optimizer='adam', metrics=['acc'])\n",
        "model2.summary()"
      ],
      "metadata": {
        "id": "sE5bq11udx_0",
        "colab": {
          "base_uri": "https://localhost:8080/"
        },
        "outputId": "6c03b45d-af34-403f-d0b0-1d617b2684c4"
      },
      "execution_count": 17,
      "outputs": [
        {
          "output_type": "stream",
          "name": "stdout",
          "text": [
            "Model: \"sequential_2\"\n",
            "_________________________________________________________________\n",
            " Layer (type)                Output Shape              Param #   \n",
            "=================================================================\n",
            " conv2d_10 (Conv2D)          (None, 26, 26, 32)        320       \n",
            "                                                                 \n",
            " conv2d_11 (Conv2D)          (None, 24, 24, 32)        9248      \n",
            "                                                                 \n",
            " max_pooling2d_5 (MaxPooling  (None, 12, 12, 32)       0         \n",
            " 2D)                                                             \n",
            "                                                                 \n",
            " conv2d_12 (Conv2D)          (None, 10, 10, 64)        18496     \n",
            "                                                                 \n",
            " conv2d_13 (Conv2D)          (None, 8, 8, 64)          36928     \n",
            "                                                                 \n",
            " conv2d_14 (Conv2D)          (None, 6, 6, 64)          36928     \n",
            "                                                                 \n",
            " max_pooling2d_6 (MaxPooling  (None, 3, 3, 64)         0         \n",
            " 2D)                                                             \n",
            "                                                                 \n",
            " conv2d_15 (Conv2D)          (None, 1, 1, 128)         73856     \n",
            "                                                                 \n",
            " conv2d_16 (Conv2D)          (None, 1, 1, 25)          3225      \n",
            "                                                                 \n",
            " flatten_2 (Flatten)         (None, 25)                0         \n",
            "                                                                 \n",
            " dense_3 (Dense)             (None, 26)                676       \n",
            "                                                                 \n",
            "=================================================================\n",
            "Total params: 179,677\n",
            "Trainable params: 179,677\n",
            "Non-trainable params: 0\n",
            "_________________________________________________________________\n"
          ]
        }
      ]
    },
    {
      "cell_type": "code",
      "source": [
        "history2 = model2.fit(\n",
        "    X_train, \n",
        "    y_train_categorical, \n",
        "    batch_size = 128, \n",
        "    epochs = 10,\n",
        "    validation_data = (X_test, y_test_categorical)\n",
        "  )"
      ],
      "metadata": {
        "colab": {
          "base_uri": "https://localhost:8080/"
        },
        "id": "asrscg8i4Rvr",
        "outputId": "aeb52c12-a092-42e4-a791-3d6357b82d8a"
      },
      "execution_count": 18,
      "outputs": [
        {
          "output_type": "stream",
          "name": "stdout",
          "text": [
            "Epoch 1/10\n",
            "215/215 [==============================] - 86s 397ms/step - loss: 1.5532 - acc: 0.5144 - val_loss: 0.7265 - val_acc: 0.7704\n",
            "Epoch 2/10\n",
            "215/215 [==============================] - 70s 327ms/step - loss: 0.1701 - acc: 0.9437 - val_loss: 0.6043 - val_acc: 0.8458\n",
            "Epoch 3/10\n",
            "215/215 [==============================] - 87s 406ms/step - loss: 0.0433 - acc: 0.9874 - val_loss: 0.6872 - val_acc: 0.8332\n",
            "Epoch 4/10\n",
            "215/215 [==============================] - 112s 522ms/step - loss: 0.0069 - acc: 0.9988 - val_loss: 0.7046 - val_acc: 0.8628\n",
            "Epoch 5/10\n",
            "215/215 [==============================] - 88s 409ms/step - loss: 3.4876e-04 - acc: 1.0000 - val_loss: 0.7248 - val_acc: 0.8714\n",
            "Epoch 6/10\n",
            "215/215 [==============================] - 88s 409ms/step - loss: 1.8131e-04 - acc: 1.0000 - val_loss: 0.7878 - val_acc: 0.8698\n",
            "Epoch 7/10\n",
            "215/215 [==============================] - 76s 355ms/step - loss: 1.2469e-04 - acc: 1.0000 - val_loss: 0.7889 - val_acc: 0.8738\n",
            "Epoch 8/10\n",
            "215/215 [==============================] - 72s 334ms/step - loss: 9.0026e-05 - acc: 1.0000 - val_loss: 0.7942 - val_acc: 0.8719\n",
            "Epoch 9/10\n",
            "215/215 [==============================] - 82s 384ms/step - loss: 6.7547e-05 - acc: 1.0000 - val_loss: 0.8202 - val_acc: 0.8734\n",
            "Epoch 10/10\n",
            "215/215 [==============================] - 91s 425ms/step - loss: 5.2395e-05 - acc: 1.0000 - val_loss: 0.8179 - val_acc: 0.8741\n"
          ]
        }
      ]
    },
    {
      "cell_type": "code",
      "source": [
        "model2.save(f'{base_path}saved_models/model2.hdf5')"
      ],
      "metadata": {
        "id": "F7NBVoW54dD_"
      },
      "execution_count": 19,
      "outputs": []
    },
    {
      "cell_type": "code",
      "source": [
        "loss = history2.history['loss']\n",
        "val_loss = history2.history['val_loss']\n",
        "epochs = range(1, len(loss) + 1)\n",
        "plt.plot(epochs, loss, 'y', label='Training loss')\n",
        "plt.plot(epochs, val_loss, 'r', label='Validation loss')\n",
        "plt.title('Training and validation loss')\n",
        "plt.xlabel('Epochs')\n",
        "plt.ylabel('Loss')\n",
        "plt.legend()\n",
        "plt.show()\n",
        "\n",
        "acc = history2.history['acc']\n",
        "val_acc = history2.history['val_acc']\n",
        "\n",
        "plt.plot(epochs, acc, 'y', label='Training acc')\n",
        "plt.plot(epochs, val_acc, 'r', label='Validation acc')\n",
        "plt.title('Training and validation accuracy')\n",
        "plt.xlabel('Epochs')\n",
        "plt.ylabel('Accuracy')\n",
        "plt.legend()\n",
        "plt.show()"
      ],
      "metadata": {
        "colab": {
          "base_uri": "https://localhost:8080/",
          "height": 573
        },
        "id": "jUuHFZ8V4uxo",
        "outputId": "b85e3769-ee81-4340-ddef-d7469af6b8b0"
      },
      "execution_count": 20,
      "outputs": [
        {
          "output_type": "display_data",
          "data": {
            "text/plain": [
              "<Figure size 432x288 with 1 Axes>"
            ],
            "image/png": "[encoded data removed]"
          },
          "metadata": {
            "needs_background": "light"
          }
        },
        {
          "output_type": "display_data",
          "data": {
            "text/plain": [
              "<Figure size 432x288 with 1 Axes>"
            ],
            "image/png": "[encoded data removed]"
          },
          "metadata": {
            "needs_background": "light"
          }
        }
      ]
    },
    {
      "cell_type": "code",
      "source": [
        "prediction2 = np.argmax(model2.predict(X_test), axis=-1)\n",
        "\n",
        "from sklearn.metrics import accuracy_score\n",
        "accuracy2 = accuracy_score(y_test, prediction2)\n",
        "print('Accuracy Score = ', accuracy2)\n",
        "\n",
        "i = random.randint(1,len(prediction2))\n",
        "fig, ax = plt.subplots(figsize=(2,2))\n",
        "plt.imshow(X_test[i,:,:,0].reshape((28, 28)), cmap='gray') \n",
        "print(\"Predicted Label: \", class_names[int(prediction2[i])])\n",
        "print(\"True Label: \", class_names[int(y_test[i])])"
      ],
      "metadata": {
        "colab": {
          "base_uri": "https://localhost:8080/",
          "height": 211
        },
        "id": "Azt8-YAY41-I",
        "outputId": "81bd040a-5fd0-436b-befa-cc5f85b8e10f"
      },
      "execution_count": 22,
      "outputs": [
        {
          "output_type": "stream",
          "name": "stdout",
          "text": [
            "Accuracy Score =  0.8740936977133296\n",
            "Predicted Label:  D\n",
            "True Label:  D\n"
          ]
        },
        {
          "output_type": "display_data",
          "data": {
            "text/plain": [
              "<Figure size 144x144 with 1 Axes>"
            ],
            "image/png": "[encoded data removed]"
          },
          "metadata": {
            "needs_background": "light"
          }
        }
      ]
    },
    {
      "cell_type": "markdown",
      "source": [
        "### Model - 3"
      ],
      "metadata": {
        "id": "Yt6Skzzi5SvT"
      }
    },
    {
      "cell_type": "code",
      "source": [
        "model3 = Sequential()\n",
        "\n",
        "model3.add(Conv2D(32, (3,3), input_shape = (28,28,1), activation='relu'))\n",
        "model3.add(MaxPooling2D(pool_size=(2,2)))\n",
        "model3.add(Dropout(0.2))\n",
        "\n",
        "model3.add(Conv2D(64, (3,3), activation='relu'))\n",
        "model3.add(MaxPooling2D(pool_size=(2,2)))\n",
        "model3.add(Dropout(0.2))\n",
        "\n",
        "model3.add(Flatten())\n",
        "model3.add(Dense(26, activation='softmax'))\n",
        "\n",
        "model3.compile(loss='categorical_crossentropy', optimizer='adam', metrics=['acc'])\n",
        "model3.summary()"
      ],
      "metadata": {
        "colab": {
          "base_uri": "https://localhost:8080/"
        },
        "id": "WP84qkz45Vv0",
        "outputId": "442d4b27-7fe6-48c3-a98a-808c3bb1c21a"
      },
      "execution_count": 26,
      "outputs": [
        {
          "output_type": "stream",
          "name": "stdout",
          "text": [
            "Model: \"sequential_5\"\n",
            "_________________________________________________________________\n",
            " Layer (type)                Output Shape              Param #   \n",
            "=================================================================\n",
            " conv2d_21 (Conv2D)          (None, 26, 26, 32)        320       \n",
            "                                                                 \n",
            " max_pooling2d_11 (MaxPoolin  (None, 13, 13, 32)       0         \n",
            " g2D)                                                            \n",
            "                                                                 \n",
            " dropout_7 (Dropout)         (None, 13, 13, 32)        0         \n",
            "                                                                 \n",
            " conv2d_22 (Conv2D)          (None, 11, 11, 64)        18496     \n",
            "                                                                 \n",
            " max_pooling2d_12 (MaxPoolin  (None, 5, 5, 64)         0         \n",
            " g2D)                                                            \n",
            "                                                                 \n",
            " dropout_8 (Dropout)         (None, 5, 5, 64)          0         \n",
            "                                                                 \n",
            " flatten_4 (Flatten)         (None, 1600)              0         \n",
            "                                                                 \n",
            " dense_5 (Dense)             (None, 26)                41626     \n",
            "                                                                 \n",
            "=================================================================\n",
            "Total params: 60,442\n",
            "Trainable params: 60,442\n",
            "Non-trainable params: 0\n",
            "_________________________________________________________________\n"
          ]
        }
      ]
    },
    {
      "cell_type": "code",
      "source": [
        "history3 = model3.fit(\n",
        "    X_train, \n",
        "    y_train_categorical, \n",
        "    batch_size = 128, \n",
        "    epochs = 10,\n",
        "    validation_data = (X_test, y_test_categorical)\n",
        "  )"
      ],
      "metadata": {
        "colab": {
          "base_uri": "https://localhost:8080/"
        },
        "id": "ht-bAtrt6LS_",
        "outputId": "8751456a-bc64-4ba5-f8da-22c08bd2dc9b"
      },
      "execution_count": 27,
      "outputs": [
        {
          "output_type": "stream",
          "name": "stdout",
          "text": [
            "Epoch 1/10\n",
            "215/215 [==============================] - 29s 134ms/step - loss: 1.8605 - acc: 0.4612 - val_loss: 0.9526 - val_acc: 0.7133\n",
            "Epoch 2/10\n",
            "215/215 [==============================] - 40s 186ms/step - loss: 0.5510 - acc: 0.8317 - val_loss: 0.5421 - val_acc: 0.8176\n",
            "Epoch 3/10\n",
            "215/215 [==============================] - 25s 119ms/step - loss: 0.2626 - acc: 0.9218 - val_loss: 0.3776 - val_acc: 0.8802\n",
            "Epoch 4/10\n",
            "215/215 [==============================] - 26s 123ms/step - loss: 0.1449 - acc: 0.9594 - val_loss: 0.3396 - val_acc: 0.8926\n",
            "Epoch 5/10\n",
            "215/215 [==============================] - 31s 144ms/step - loss: 0.0869 - acc: 0.9777 - val_loss: 0.2932 - val_acc: 0.9136\n",
            "Epoch 6/10\n",
            "215/215 [==============================] - 36s 167ms/step - loss: 0.0577 - acc: 0.9869 - val_loss: 0.2875 - val_acc: 0.9204\n",
            "Epoch 7/10\n",
            "215/215 [==============================] - 26s 123ms/step - loss: 0.0423 - acc: 0.9902 - val_loss: 0.2701 - val_acc: 0.9240\n",
            "Epoch 8/10\n",
            "215/215 [==============================] - 38s 179ms/step - loss: 0.0310 - acc: 0.9929 - val_loss: 0.2484 - val_acc: 0.9352\n",
            "Epoch 9/10\n",
            "215/215 [==============================] - 32s 146ms/step - loss: 0.0238 - acc: 0.9947 - val_loss: 0.2511 - val_acc: 0.9345\n",
            "Epoch 10/10\n",
            "215/215 [==============================] - 37s 171ms/step - loss: 0.0192 - acc: 0.9961 - val_loss: 0.2519 - val_acc: 0.9373\n"
          ]
        }
      ]
    },
    {
      "cell_type": "code",
      "source": [
        "model3.save(f'{base_path}saved_models/model3.hdf5')"
      ],
      "metadata": {
        "id": "-6VT-RSK6SXa"
      },
      "execution_count": 28,
      "outputs": []
    },
    {
      "cell_type": "code",
      "source": [
        "loss = history3.history['loss']\n",
        "val_loss = history3.history['val_loss']\n",
        "epochs = range(1, len(loss) + 1)\n",
        "plt.plot(epochs, loss, 'y', label='Training loss')\n",
        "plt.plot(epochs, val_loss, 'r', label='Validation loss')\n",
        "plt.title('Training and validation loss')\n",
        "plt.xlabel('Epochs')\n",
        "plt.ylabel('Loss')\n",
        "plt.legend()\n",
        "plt.show()\n",
        "\n",
        "acc = history3.history['acc']\n",
        "val_acc = history3.history['val_acc']\n",
        "\n",
        "plt.plot(epochs, acc, 'y', label='Training acc')\n",
        "plt.plot(epochs, val_acc, 'r', label='Validation acc')\n",
        "plt.title('Training and validation accuracy')\n",
        "plt.xlabel('Epochs')\n",
        "plt.ylabel('Accuracy')\n",
        "plt.legend()\n",
        "plt.show()"
      ],
      "metadata": {
        "colab": {
          "base_uri": "https://localhost:8080/",
          "height": 573
        },
        "id": "ttTSsut26bK9",
        "outputId": "b59cb0c4-edf0-4224-80f3-bff191dddee1"
      },
      "execution_count": 29,
      "outputs": [
        {
          "output_type": "display_data",
          "data": {
            "text/plain": [
              "<Figure size 432x288 with 1 Axes>"
            ],
            "image/png": "[encoded data removed]"
          },
          "metadata": {
            "needs_background": "light"
          }
        },
        {
          "output_type": "display_data",
          "data": {
            "text/plain": [
              "<Figure size 432x288 with 1 Axes>"
            ],
            "image/png": "[encoded data removed]"
          },
          "metadata": {
            "needs_background": "light"
          }
        }
      ]
    },
    {
      "cell_type": "code",
      "source": [
        "prediction3 = np.argmax(model3.predict(X_test), axis=-1)\n",
        "\n",
        "from sklearn.metrics import accuracy_score\n",
        "accuracy3 = accuracy_score(y_test, prediction3)\n",
        "print('Accuracy Score = ', accuracy3)\n",
        "\n",
        "i = random.randint(1,len(prediction3))\n",
        "fig, ax = plt.subplots(figsize=(2,2))\n",
        "plt.imshow(X_test[i,:,:,0].reshape((28, 28)), cmap='gray') \n",
        "print(\"Predicted Label: \", class_names[int(prediction3[i])])\n",
        "print(\"True Label: \", class_names[int(y_test[i])])"
      ],
      "metadata": {
        "colab": {
          "base_uri": "https://localhost:8080/",
          "height": 211
        },
        "id": "zwaLV8Hv6evd",
        "outputId": "d726efbe-f54e-4f5c-b770-f78a756b457d"
      },
      "execution_count": 30,
      "outputs": [
        {
          "output_type": "stream",
          "name": "stdout",
          "text": [
            "Accuracy Score =  0.9372559955382042\n",
            "Predicted Label:  W\n",
            "True Label:  W\n"
          ]
        },
        {
          "output_type": "display_data",
          "data": {
            "text/plain": [
              "<Figure size 144x144 with 1 Axes>"
            ],
            "image/png": "[encoded data removed]"
          },
          "metadata": {
            "needs_background": "light"
          }
        }
      ]
    },
    {
      "cell_type": "markdown",
      "source": [
        "### Ensembling\n",
        "Ensemble methods is a machine learning technique that combines several base models in order to produce one optimal predictive model. In this notebook we are performing weighted ensembling to get the optimal result."
      ],
      "metadata": {
        "id": "NJn2L6eH6x30"
      }
    },
    {
      "cell_type": "code",
      "source": [
        "models = [model1, model2, model3]\n",
        "predictions = [model.predict(X_test) for model in models]\n",
        "weights = [0.5, 0.2, 0.3]\n",
        "predictions = np.array(predictions)\n",
        "dot = np.tensordot(predictions, weights, axes=((0), (0)))\n",
        "\n",
        "ensemble_prediction = np.argmax(dot, axis=1)\n",
        "ensemble_accuracy = accuracy_score(y_test, ensemble_prediction)\n",
        "print('Ensembled Accuracy Score = ', ensemble_accuracy)\n",
        "\n",
        "i = random.randint(1,len(ensemble_prediction))\n",
        "fig, ax = plt.subplots(figsize=(2,2))\n",
        "plt.imshow(X_test[i,:,:,0].reshape((28, 28)), cmap='gray') \n",
        "print(\"Predicted Label: \", class_names[int(ensemble_prediction[i])])\n",
        "print(\"True Label: \", class_names[int(y_test[i])])"
      ],
      "metadata": {
        "colab": {
          "base_uri": "https://localhost:8080/",
          "height": 211
        },
        "id": "s_OD-urz65pK",
        "outputId": "c295c42d-c084-4ed1-f28a-caee28da4d12"
      },
      "execution_count": 38,
      "outputs": [
        {
          "output_type": "stream",
          "name": "stdout",
          "text": [
            "Ensembled Accuracy Score =  0.9612381483547128\n",
            "Predicted Label:  C\n",
            "True Label:  C\n"
          ]
        },
        {
          "output_type": "display_data",
          "data": {
            "text/plain": [
              "<Figure size 144x144 with 1 Axes>"
            ],
            "image/png": "[encoded data removed]"
          },
          "metadata": {
            "needs_background": "light"
          }
        }
      ]
    },
    {
      "cell_type": "markdown",
      "source": [
        "### Result\n",
        "We are getting 96% accuracy on the test dataset."
      ],
      "metadata": {
        "id": "rtf3TFWEs9_d"
      }
    }
  ]
}